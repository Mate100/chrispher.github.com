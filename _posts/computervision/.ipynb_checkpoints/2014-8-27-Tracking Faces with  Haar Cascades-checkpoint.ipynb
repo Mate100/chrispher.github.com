{
 "metadata": {
  "name": "",
  "signature": "sha256:32f45d1061b361ee23d8bc91b5849c6f7d94df26a83ed42eb4b9e206dbd1ba15"
 },
 "nbformat": 3,
 "nbformat_minor": 0,
 "worksheets": [
  {
   "cells": [
    {
     "cell_type": "markdown",
     "metadata": {},
     "source": [
      "Tracking Faces with Haar Cascades\n",
      "===================================\n",
      "\u672c\u6587\u4e3b\u8981\u8bb2\u8ff0\u4f7f\u7528haar\u7279\u5f81\u8fdb\u884c\u68c0\u6d4b\u5e76\u5b9a\u4f4d\u4eba\u8138\u3002\u5f53\u6211\u4eec\u63d0\u5230\u7269\u4f53\u8bc6\u522b\u548c\u5b9a\u4f4d\u7684\u65f6\u5019\uff0c\u6211\u4eec\u4e3b\u8981\n",
      "**\u53c2\u8003openCV computer vision with python--Joseph Howse**  \n"
     ]
    },
    {
     "cell_type": "code",
     "collapsed": false,
     "input": [
      "r0 = 25267566250558\n",
      "i = []\n",
      "a = 37**8\n",
      "i.append(r/a)\n",
      "print a, float(r)/a"
     ],
     "language": "python",
     "metadata": {},
     "outputs": [
      {
       "output_type": "stream",
       "stream": "stdout",
       "text": [
        "3512479453921 7.19365524611\n"
       ]
      }
     ],
     "prompt_number": 4
    },
    {
     "cell_type": "code",
     "collapsed": false,
     "input": [
      "r1 = r0 - a*i[-1]\n",
      "print r1\n",
      "i.append(r1 / 37**7)"
     ],
     "language": "python",
     "metadata": {},
     "outputs": [
      {
       "output_type": "stream",
       "stream": "stdout",
       "text": [
        "680210073111\n"
       ]
      }
     ],
     "prompt_number": 6
    },
    {
     "cell_type": "code",
     "collapsed": false,
     "input": [
      "r0 = 25267566250558\n",
      "r0 = r0 - 37**8\n",
      "i = []\n",
      "e = 37**8\n",
      "for k in xrange(0,8):\n",
      "    k = 8 - k\n",
      "    a = 37**k\n",
      "    \n",
      "    i.append(r0 / a)\n",
      "    r0 = r0 - a * i[-1]\n",
      "    e = e + a * i[-1]\n",
      "\n",
      "print i, e"
     ],
     "language": "python",
     "metadata": {},
     "outputs": [
      {
       "output_type": "stream",
       "stream": "stdout",
       "text": [
        "[6L, 7L, 6L, 4L, 8L, 4L, 2L, 7L] 21755086796636\n"
       ]
      }
     ],
     "prompt_number": 18
    },
    {
     "cell_type": "code",
     "collapsed": false,
     "input": [
      "def myhash(mylist):\n",
      "    h = 7\n",
      "    for i in mylist:\n",
      "        h = 37*h + i\n",
      "    return h\n",
      "\n",
      "i = [7, 7, 6, 4, 8, 4, 2, 8]\n",
      "print myhash(i) "
     ],
     "language": "python",
     "metadata": {},
     "outputs": [
      {
       "output_type": "stream",
       "stream": "stdout",
       "text": [
        "[7L, 7L, 6L, 4L, 8L, 4L, 2L, 7L]\n",
        "25270263373408\n"
       ]
      }
     ],
     "prompt_number": 16
    },
    {
     "cell_type": "code",
     "collapsed": false,
     "input": [],
     "language": "python",
     "metadata": {},
     "outputs": []
    }
   ],
   "metadata": {}
  }
 ]
}