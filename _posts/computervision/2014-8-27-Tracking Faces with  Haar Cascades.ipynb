{
 "metadata": {
  "name": "",
  "signature": "sha256:8c96d4cde35bde8b6546caa69f2a41d4b8c8c4c57c08b52e45c151dfc05cd410"
 },
 "nbformat": 3,
 "nbformat_minor": 0,
 "worksheets": [
  {
   "cells": [
    {
     "cell_type": "markdown",
     "metadata": {},
     "source": [
      "Tracking Faces with Haar Cascades\n",
      "===================================\n",
      "\u672c\u6587\u4e3b\u8981\u8bb2\u8ff0\u4f7f\u7528haar\u7279\u5f81\u8fdb\u884c\u68c0\u6d4b\u5e76\u5b9a\u4f4d\u4eba\u8138\u3002\u5f53\u6211\u4eec\u63d0\u5230\u7269\u4f53\u8bc6\u522b\u548c\u5b9a\u4f4d\u7684\u65f6\u5019\uff0c\u6211\u4eec\u4e3b\u8981\n",
      "**\u53c2\u8003openCV computer vision with python--Joseph Howse**  \n"
     ]
    },
    {
     "cell_type": "code",
     "collapsed": false,
     "input": [
      "def myhash(mylist):\n",
      "    h = 7\n",
      "    for i in mylist:\n",
      "        h = 37*h + i\n",
      "    return h\n",
      "\n",
      "base = 25267566250558\n",
      "e = 37**8*7\n",
      "r0 = base - e\n",
      "result = []\n",
      "\n",
      "# length8 \n",
      "for k in xrange(1,8):\n",
      "    k = 8 - k\n",
      "    a = 37**k    \n",
      "    result.append(r0 / a)\n",
      "    r0 = r0 - a * result[-1]\n",
      "    e = e + a * result[-1]\n",
      "    \n",
      "result.append(base-e)\n",
      "print result, e\n",
      "\n",
      "# test\n",
      "print base\n",
      "print myhash(result) \n",
      "print base - myhash(result) \n",
      "\n",
      "# result\n",
      "strings = ['c','e','i','a','r','w','u','s','p']\n",
      "' '.join([strings[j] for j in result])"
     ],
     "language": "python",
     "metadata": {},
     "outputs": [
      {
       "output_type": "stream",
       "stream": "stdout",
       "text": [
        "[7L, 6L, 4L, 8L, 4L, 2L, 7L, 1L] 25267566250557\n",
        "25267566250558\n",
        "25267566250558\n",
        "0\n"
       ]
      },
      {
       "metadata": {},
       "output_type": "pyout",
       "prompt_number": 42,
       "text": [
        "'s u r p r i s e'"
       ]
      }
     ],
     "prompt_number": 42
    },
    {
     "cell_type": "code",
     "collapsed": false,
     "input": [],
     "language": "python",
     "metadata": {},
     "outputs": [],
     "prompt_number": 39
    }
   ],
   "metadata": {}
  }
 ]
}