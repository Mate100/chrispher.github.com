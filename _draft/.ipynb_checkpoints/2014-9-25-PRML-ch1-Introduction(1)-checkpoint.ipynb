{
 "metadata": {
  "name": "",
  "signature": "sha256:907c8a2bdcaf1f4b7b82f85f4a0d73e0f23d00c3a937444d7022f0fc102e85be"
 },
 "nbformat": 3,
 "nbformat_minor": 0,
 "worksheets": [
  {
   "cells": [
    {
     "cell_type": "markdown",
     "metadata": {},
     "source": [
      "---\n",
      "layout: post\n",
      "title: PRML-ch1-Introduction(1)\n",
      "comments: true\n",
      "category: PRML\n",
      "tags: [Machine Learning, Notes, Basic]\n",
      "---\n",
      "\n",
      "One of the main goals of this chapter is to introduce, in a relatively informal way, several of the most important of these concepts and to illustrate them using simple examples. This\n",
      "chapter also provides a self-contained introduction to three important tools that will\n",
      "be used throughout the book, namely probability theory, decision theory, and information theory.\n",
      "\n",
      "<!-- MarkdownTOC depth=4 -->\n",
      "- [1.1 Example: Polynomial Curve Fitting](#1.1 Example: Polynomial Curve Fitting)\n",
      "- [Appendix: No free lunch theorem](#Appendix: No free lunch theorem)\n",
      "<!-- /MarkdownTOC -->"
     ]
    },
    {
     "cell_type": "code",
     "collapsed": false,
     "input": [],
     "language": "python",
     "metadata": {},
     "outputs": []
    },
    {
     "cell_type": "markdown",
     "metadata": {},
     "source": [
      "#### Appendix: No free lunch theorem\n",
      "**All models are wrong, but some models are usefull. --George Box**\n",
      "\n",
      "Much of machine learning is concerned with devising different models, and different algorithms\n",
      "to fit them. We can use methods such as cross validation to empirically choose the best method\n",
      "for our particular problem. However, there is no universally best model \u2014 this is sometimes\n",
      "called the no free lunch theorem (Wolpert 1996). The reason for this is that a set of assumptions\n",
      "that works well in one domain may work poorly in another.\n",
      "\n",
      "As a consequence of the no free lunch theorem, we need to develop many different types of\n",
      "models, to cover the wide variety of data that occurs in the real world. And for each model,\n",
      "there may be many different algorithms we can use to train the model, which make different\n",
      "speed-accuracy-complexity tradeoffs. It is this combination of data, models and algorithms."
     ]
    },
    {
     "cell_type": "code",
     "collapsed": false,
     "input": [],
     "language": "python",
     "metadata": {},
     "outputs": []
    }
   ],
   "metadata": {}
  }
 ]
}